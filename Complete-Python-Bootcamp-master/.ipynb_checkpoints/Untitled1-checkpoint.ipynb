{
 "cells": [
  {
   "cell_type": "code",
   "execution_count": 1,
   "metadata": {},
   "outputs": [
    {
     "name": "stdout",
     "output_type": "stream",
     "text": [
      "Enter a file name:\n",
      "clear\n",
      "clear\n"
     ]
    }
   ],
   "source": [
    "import os\n",
    "\n",
    "print ('Enter a file name:')\n",
    "filename = input()\n",
    "\n",
    "\n",
    "def clear_screen():\n",
    "    os.system('clear')\n",
    "\n",
    "print (filename)\n",
    "if filename == 'clear':\n",
    "    clear_screen()"
   ]
  },
  {
   "cell_type": "code",
   "execution_count": 4,
   "metadata": {},
   "outputs": [
    {
     "name": "stdout",
     "output_type": "stream",
     "text": [
      "\n",
      "hello\n",
      "\n",
      "hell\n",
      "\n",
      "hel\n",
      "\n",
      "he\n",
      "\n",
      "h\n"
     ]
    }
   ],
   "source": [
    "from time import sleep\n",
    "import os\n",
    "\n",
    "def cls():\n",
    "    os.system('cls' if os.name=='nt' else 'clear')\n",
    "\n",
    "message = 'hello'\n",
    "for i in range(len(message), 0, -1):\n",
    "    print ('\\r')\n",
    "    cls()\n",
    "    print (message[:i])\n",
    "    sleep(1)"
   ]
  },
  {
   "cell_type": "code",
   "execution_count": null,
   "metadata": {},
   "outputs": [
    {
     "name": "stdout",
     "output_type": "stream",
     "text": [
      ">> You have finished 0%\n",
      "test\n",
      ">> You have finished 10%\n",
      "test\n",
      ">> You have finished 20%\n",
      "test\n",
      ">> You have finished 30%\n",
      "test\n",
      ">> You have finished 40%\n",
      "es\n",
      ">> You have finished 50%\n",
      "\n",
      ">> You have finished 60%\n",
      "\n",
      ">> You have finished 70%\n",
      "\n"
     ]
    }
   ],
   "source": [
    "\n",
    "import sys, time\n",
    "\n",
    "for i in range(0, 101, 10):\n",
    "  print ('\\r>> You have finished %d%%' % i,)\n",
    "  cls()\n",
    "  sys.stdout.flush()\n",
    "  filename = input()\n",
    "  time.sleep(0.1)"
   ]
  },
  {
   "cell_type": "code",
   "execution_count": null,
   "metadata": {
    "collapsed": true
   },
   "outputs": [],
   "source": []
  }
 ],
 "metadata": {
  "kernelspec": {
   "display_name": "Python 3",
   "language": "python",
   "name": "python3"
  },
  "language_info": {
   "codemirror_mode": {
    "name": "ipython",
    "version": 3
   },
   "file_extension": ".py",
   "mimetype": "text/x-python",
   "name": "python",
   "nbconvert_exporter": "python",
   "pygments_lexer": "ipython3",
   "version": "3.6.1"
  }
 },
 "nbformat": 4,
 "nbformat_minor": 2
}
