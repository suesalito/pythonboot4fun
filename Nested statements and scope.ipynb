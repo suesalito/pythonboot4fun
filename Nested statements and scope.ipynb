{
 "cells": [
  {
   "cell_type": "code",
   "execution_count": 2,
   "metadata": {},
   "outputs": [
    {
     "name": "stdout",
     "output_type": "stream",
     "text": [
      "Hello Sammy\n"
     ]
    }
   ],
   "source": [
    "name = 'This is a global name'\n",
    "\n",
    "def greet():\n",
    "    # Enclosing function\n",
    "    name = 'Sammy'\n",
    "    \n",
    "    def hello():\n",
    "        print ('Hello '+name)\n",
    "        \n",
    "    \n",
    "    hello()\n",
    "\n",
    "greet()"
   ]
  },
  {
   "cell_type": "code",
   "execution_count": 3,
   "metadata": {
    "collapsed": true
   },
   "outputs": [],
   "source": [
    "# name inside the hello() is called from the enclosed function"
   ]
  },
  {
   "cell_type": "code",
   "execution_count": 4,
   "metadata": {
    "collapsed": true
   },
   "outputs": [],
   "source": [
    "# Recommend to watch the video again for detail"
   ]
  },
  {
   "cell_type": "code",
   "execution_count": 6,
   "metadata": {},
   "outputs": [
    {
     "name": "stdout",
     "output_type": "stream",
     "text": [
      "Before calling func(), x is:  50\n",
      "This function is now using the global x!\n",
      "Because of global x is:  50\n",
      "Ran func(), changed global x to 2\n",
      "Value of x (outside of func()) is:  2\n"
     ]
    }
   ],
   "source": [
    "x = 50\n",
    "\n",
    "def func():\n",
    "    global x\n",
    "    print ('This function is now using the global x!')\n",
    "    print ('Because of global x is: ', x)\n",
    "    x = 2\n",
    "    print ('Ran func(), changed global x to', x)\n",
    "\n",
    "print ('Before calling func(), x is: ', x)\n",
    "func()\n",
    "print ('Value of x (outside of func()) is: ', x)"
   ]
  },
  {
   "cell_type": "code",
   "execution_count": 10,
   "metadata": {},
   "outputs": [
    {
     "data": {
      "text/plain": [
       "{'In': ['',\n",
       "  \"name = 'This is a global name'\\n\\ndef greet():\\n    # Enclosing function\\n    name = 'Sammy'\\n    \\n    def hello():\\n        print 'Hello '+name\\n    \\n    hello()\\n\\ngreet()\",\n",
       "  \"name = 'This is a global name'\\n\\ndef greet():\\n    # Enclosing function\\n    name = 'Sammy'\\n    \\n    def hello():\\n        print ('Hello '+name)\\n        \\n    \\n    hello()\\n\\ngreet()\",\n",
       "  '# name inside the hello() is called from the enclosed function',\n",
       "  '# Recommend to watch the video again for detail',\n",
       "  \"x = 50\\n\\ndef func():\\n    global x\\n    print 'This function is now using the global x!'\\n    print 'Because of global x is: ', x\\n    x = 2\\n    print 'Ran func(), changed global x to', x\\n\\nprint 'Before calling func(), x is: ', x\\nfunc()\\nprint 'Value of x (outside of func()) is: ', x\",\n",
       "  \"x = 50\\n\\ndef func():\\n    global x\\n    print ('This function is now using the global x!')\\n    print ('Because of global x is: ', x)\\n    x = 2\\n    print ('Ran func(), changed global x to', x)\\n\\nprint ('Before calling func(), x is: ', x)\\nfunc()\\nprint ('Value of x (outside of func()) is: ', x)\",\n",
       "  'glabal()',\n",
       "  'global()',\n",
       "  'globals()',\n",
       "  'locals()'],\n",
       " 'Out': {9: {...}},\n",
       " '_': {...},\n",
       " '_9': {...},\n",
       " '__': '',\n",
       " '___': '',\n",
       " '__builtin__': <module 'builtins' (built-in)>,\n",
       " '__builtins__': <module 'builtins' (built-in)>,\n",
       " '__doc__': 'Automatically created module for IPython interactive environment',\n",
       " '__loader__': None,\n",
       " '__name__': '__main__',\n",
       " '__package__': None,\n",
       " '__spec__': None,\n",
       " '_dh': ['/Users/suesalito/Desktop/Python/pythonboot4fun'],\n",
       " '_i': 'globals()',\n",
       " '_i1': \"name = 'This is a global name'\\n\\ndef greet():\\n    # Enclosing function\\n    name = 'Sammy'\\n    \\n    def hello():\\n        print 'Hello '+name\\n    \\n    hello()\\n\\ngreet()\",\n",
       " '_i10': 'locals()',\n",
       " '_i2': \"name = 'This is a global name'\\n\\ndef greet():\\n    # Enclosing function\\n    name = 'Sammy'\\n    \\n    def hello():\\n        print ('Hello '+name)\\n        \\n    \\n    hello()\\n\\ngreet()\",\n",
       " '_i3': '# name inside the hello() is called from the enclosed function',\n",
       " '_i4': '# Recommend to watch the video again for detail',\n",
       " '_i5': \"x = 50\\n\\ndef func():\\n    global x\\n    print 'This function is now using the global x!'\\n    print 'Because of global x is: ', x\\n    x = 2\\n    print 'Ran func(), changed global x to', x\\n\\nprint 'Before calling func(), x is: ', x\\nfunc()\\nprint 'Value of x (outside of func()) is: ', x\",\n",
       " '_i6': \"x = 50\\n\\ndef func():\\n    global x\\n    print ('This function is now using the global x!')\\n    print ('Because of global x is: ', x)\\n    x = 2\\n    print ('Ran func(), changed global x to', x)\\n\\nprint ('Before calling func(), x is: ', x)\\nfunc()\\nprint ('Value of x (outside of func()) is: ', x)\",\n",
       " '_i7': 'glabal()',\n",
       " '_i8': 'global()',\n",
       " '_i9': 'globals()',\n",
       " '_ih': ['',\n",
       "  \"name = 'This is a global name'\\n\\ndef greet():\\n    # Enclosing function\\n    name = 'Sammy'\\n    \\n    def hello():\\n        print 'Hello '+name\\n    \\n    hello()\\n\\ngreet()\",\n",
       "  \"name = 'This is a global name'\\n\\ndef greet():\\n    # Enclosing function\\n    name = 'Sammy'\\n    \\n    def hello():\\n        print ('Hello '+name)\\n        \\n    \\n    hello()\\n\\ngreet()\",\n",
       "  '# name inside the hello() is called from the enclosed function',\n",
       "  '# Recommend to watch the video again for detail',\n",
       "  \"x = 50\\n\\ndef func():\\n    global x\\n    print 'This function is now using the global x!'\\n    print 'Because of global x is: ', x\\n    x = 2\\n    print 'Ran func(), changed global x to', x\\n\\nprint 'Before calling func(), x is: ', x\\nfunc()\\nprint 'Value of x (outside of func()) is: ', x\",\n",
       "  \"x = 50\\n\\ndef func():\\n    global x\\n    print ('This function is now using the global x!')\\n    print ('Because of global x is: ', x)\\n    x = 2\\n    print ('Ran func(), changed global x to', x)\\n\\nprint ('Before calling func(), x is: ', x)\\nfunc()\\nprint ('Value of x (outside of func()) is: ', x)\",\n",
       "  'glabal()',\n",
       "  'global()',\n",
       "  'globals()',\n",
       "  'locals()'],\n",
       " '_ii': 'global()',\n",
       " '_iii': 'glabal()',\n",
       " '_oh': {9: {...}},\n",
       " '_sh': <module 'IPython.core.shadowns' from '/Users/suesalito/anaconda/lib/python3.6/site-packages/IPython/core/shadowns.py'>,\n",
       " 'exit': <IPython.core.autocall.ZMQExitAutocall at 0x10ccd8fd0>,\n",
       " 'func': <function __main__.func>,\n",
       " 'get_ipython': <bound method InteractiveShell.get_ipython of <ipykernel.zmqshell.ZMQInteractiveShell object at 0x10c6b7d30>>,\n",
       " 'greet': <function __main__.greet>,\n",
       " 'name': 'This is a global name',\n",
       " 'quit': <IPython.core.autocall.ZMQExitAutocall at 0x10ccd8fd0>,\n",
       " 'x': 2}"
      ]
     },
     "execution_count": 10,
     "metadata": {},
     "output_type": "execute_result"
    }
   ],
   "source": [
    "locals()"
   ]
  },
  {
   "cell_type": "code",
   "execution_count": null,
   "metadata": {
    "collapsed": true
   },
   "outputs": [],
   "source": []
  }
 ],
 "metadata": {
  "kernelspec": {
   "display_name": "Python 3",
   "language": "python",
   "name": "python3"
  },
  "language_info": {
   "codemirror_mode": {
    "name": "ipython",
    "version": 3
   },
   "file_extension": ".py",
   "mimetype": "text/x-python",
   "name": "python",
   "nbconvert_exporter": "python",
   "pygments_lexer": "ipython3",
   "version": "3.6.1"
  }
 },
 "nbformat": 4,
 "nbformat_minor": 2
}
