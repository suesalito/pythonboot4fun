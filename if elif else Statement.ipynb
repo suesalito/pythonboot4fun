{
 "cells": [
  {
   "cell_type": "code",
   "execution_count": 1,
   "metadata": {},
   "outputs": [
    {
     "name": "stdout",
     "output_type": "stream",
     "text": [
      "it was true.\n"
     ]
    }
   ],
   "source": [
    "if True:\n",
    "    print ('it was true.')"
   ]
  },
  {
   "cell_type": "code",
   "execution_count": 2,
   "metadata": {
    "collapsed": true
   },
   "outputs": [],
   "source": [
    "if False:\n",
    "    print ('it was true.')"
   ]
  },
  {
   "cell_type": "code",
   "execution_count": 3,
   "metadata": {},
   "outputs": [
    {
     "name": "stdout",
     "output_type": "stream",
     "text": [
      "This is when x is false\n"
     ]
    }
   ],
   "source": [
    "x = False\n",
    "if x : \n",
    "    print ('This is when x is true')\n",
    "else :\n",
    "    print ('This is when x is false')"
   ]
  },
  {
   "cell_type": "code",
   "execution_count": 4,
   "metadata": {},
   "outputs": [
    {
     "name": "stdout",
     "output_type": "stream",
     "text": [
      "This is when x is true\n"
     ]
    }
   ],
   "source": [
    "x = True\n",
    "if x : \n",
    "    print ('This is when x is true')\n",
    "else :\n",
    "    print ('This is when x is false')"
   ]
  },
  {
   "cell_type": "code",
   "execution_count": 5,
   "metadata": {},
   "outputs": [
    {
     "name": "stdout",
     "output_type": "stream",
     "text": [
      "x is positive\n"
     ]
    }
   ],
   "source": [
    "x = 5\n",
    "if x > 0 : \n",
    "    print ('x is positive')\n",
    "elif x == 0:\n",
    "    print ('x = zero')\n",
    "else :\n",
    "    print ('x = negative number')"
   ]
  },
  {
   "cell_type": "code",
   "execution_count": 6,
   "metadata": {},
   "outputs": [
    {
     "name": "stdout",
     "output_type": "stream",
     "text": [
      "x = negative number\n"
     ]
    }
   ],
   "source": [
    "x = -1\n",
    "if x > 0 : \n",
    "    print ('x is positive')\n",
    "elif x == 0:\n",
    "    print ('x = zero')\n",
    "else :\n",
    "    print ('x = negative number')"
   ]
  },
  {
   "cell_type": "code",
   "execution_count": 7,
   "metadata": {},
   "outputs": [
    {
     "name": "stdout",
     "output_type": "stream",
     "text": [
      "x = negative number\n"
     ]
    }
   ],
   "source": [
    "x = -0.4\n",
    "if x > 0 : \n",
    "    print ('x is positive')\n",
    "elif x == 0:\n",
    "    print ('x = zero')\n",
    "else :\n",
    "    print ('x = negative number')"
   ]
  },
  {
   "cell_type": "code",
   "execution_count": 8,
   "metadata": {},
   "outputs": [
    {
     "name": "stdout",
     "output_type": "stream",
     "text": [
      "x = zero\n"
     ]
    }
   ],
   "source": [
    "x = 0\n",
    "if x > 0 : \n",
    "    print ('x is positive')\n",
    "elif x == 0:\n",
    "    print ('x = zero')\n",
    "else :\n",
    "    print ('x = negative number')"
   ]
  },
  {
   "cell_type": "code",
   "execution_count": 11,
   "metadata": {},
   "outputs": [
    {
     "name": "stdout",
     "output_type": "stream",
     "text": [
      "Welcome to the Bank\n"
     ]
    }
   ],
   "source": [
    "loc = 'Bank'\n",
    "if loc == 'Auto Shop':\n",
    "    print ('Welcome to the Auto Shop')\n",
    "elif loc == 'Bank':\n",
    "    print ('Welcome to the Bank')\n",
    "elif loc == 'Mall':\n",
    "    print ('Welcome to the Mall')\n",
    "else:\n",
    "    print ('Where are you?')"
   ]
  },
  {
   "cell_type": "code",
   "execution_count": null,
   "metadata": {
    "collapsed": true
   },
   "outputs": [],
   "source": []
  }
 ],
 "metadata": {
  "kernelspec": {
   "display_name": "Python 3",
   "language": "python",
   "name": "python3"
  },
  "language_info": {
   "codemirror_mode": {
    "name": "ipython",
    "version": 3
   },
   "file_extension": ".py",
   "mimetype": "text/x-python",
   "name": "python",
   "nbconvert_exporter": "python",
   "pygments_lexer": "ipython3",
   "version": "3.6.1"
  }
 },
 "nbformat": 4,
 "nbformat_minor": 2
}
